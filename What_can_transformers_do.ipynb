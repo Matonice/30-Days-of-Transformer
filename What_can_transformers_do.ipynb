{
  "nbformat": 4,
  "nbformat_minor": 0,
  "metadata": {
    "colab": {
      "provenance": [],
      "collapsed_sections": [],
      "authorship_tag": "ABX9TyPcacIxi6t0AqAeAK1RTX1/",
      "include_colab_link": true
    },
    "kernelspec": {
      "name": "python3",
      "display_name": "Python 3"
    },
    "language_info": {
      "name": "python"
    },
    "widgets": {
      "application/vnd.jupyter.widget-state+json": {
        "d4f703a5dce148679acb3f276d68e6e8": {
          "model_module": "@jupyter-widgets/controls",
          "model_name": "HBoxModel",
          "model_module_version": "2.0.0",
          "state": {
            "_dom_classes": [],
            "_model_module": "@jupyter-widgets/controls",
            "_model_module_version": "2.0.0",
            "_model_name": "HBoxModel",
            "_view_count": null,
            "_view_module": "@jupyter-widgets/controls",
            "_view_module_version": "2.0.0",
            "_view_name": "HBoxView",
            "box_style": "",
            "children": [
              "IPY_MODEL_57c0286ec002451a9bbb4093a61b2082",
              "IPY_MODEL_de4839c61d7d4725ba8cc1c73a588cc1",
              "IPY_MODEL_cfe9bf1b17714bd68353033e3a72a6cf"
            ],
            "layout": "IPY_MODEL_802f3894dba74d9a91821b0b4f597941",
            "tabbable": null,
            "tooltip": null
          }
        },
        "57c0286ec002451a9bbb4093a61b2082": {
          "model_module": "@jupyter-widgets/controls",
          "model_name": "HTMLModel",
          "model_module_version": "2.0.0",
          "state": {
            "_dom_classes": [],
            "_model_module": "@jupyter-widgets/controls",
            "_model_module_version": "2.0.0",
            "_model_name": "HTMLModel",
            "_view_count": null,
            "_view_module": "@jupyter-widgets/controls",
            "_view_module_version": "2.0.0",
            "_view_name": "HTMLView",
            "description": "",
            "description_allow_html": false,
            "layout": "IPY_MODEL_95d124ac660e4fec882f148481886093",
            "placeholder": "​",
            "style": "IPY_MODEL_367a0d40c615408fb14de7d445e222f9",
            "tabbable": null,
            "tooltip": null,
            "value": "Downloading source.spm: 100%"
          }
        },
        "de4839c61d7d4725ba8cc1c73a588cc1": {
          "model_module": "@jupyter-widgets/controls",
          "model_name": "FloatProgressModel",
          "model_module_version": "2.0.0",
          "state": {
            "_dom_classes": [],
            "_model_module": "@jupyter-widgets/controls",
            "_model_module_version": "2.0.0",
            "_model_name": "FloatProgressModel",
            "_view_count": null,
            "_view_module": "@jupyter-widgets/controls",
            "_view_module_version": "2.0.0",
            "_view_name": "ProgressView",
            "bar_style": "success",
            "description": "",
            "description_allow_html": false,
            "layout": "IPY_MODEL_6a684492bb9b441f9567dab4f9e8c36c",
            "max": 778395,
            "min": 0,
            "orientation": "horizontal",
            "style": "IPY_MODEL_9f0908a47ce34d8cbdb93d05b54ce02f",
            "tabbable": null,
            "tooltip": null,
            "value": 778395
          }
        },
        "cfe9bf1b17714bd68353033e3a72a6cf": {
          "model_module": "@jupyter-widgets/controls",
          "model_name": "HTMLModel",
          "model_module_version": "2.0.0",
          "state": {
            "_dom_classes": [],
            "_model_module": "@jupyter-widgets/controls",
            "_model_module_version": "2.0.0",
            "_model_name": "HTMLModel",
            "_view_count": null,
            "_view_module": "@jupyter-widgets/controls",
            "_view_module_version": "2.0.0",
            "_view_name": "HTMLView",
            "description": "",
            "description_allow_html": false,
            "layout": "IPY_MODEL_f13fd03624cf4b12b2bdbd241689defe",
            "placeholder": "​",
            "style": "IPY_MODEL_3385dd15a529492481794c7480997f5e",
            "tabbable": null,
            "tooltip": null,
            "value": " 760k/760k [00:00&lt;00:00, 1.50MB/s]"
          }
        },
        "802f3894dba74d9a91821b0b4f597941": {
          "model_module": "@jupyter-widgets/base",
          "model_name": "LayoutModel",
          "model_module_version": "2.0.0",
          "state": {
            "_model_module": "@jupyter-widgets/base",
            "_model_module_version": "2.0.0",
            "_model_name": "LayoutModel",
            "_view_count": null,
            "_view_module": "@jupyter-widgets/base",
            "_view_module_version": "2.0.0",
            "_view_name": "LayoutView",
            "align_content": null,
            "align_items": null,
            "align_self": null,
            "border_bottom": null,
            "border_left": null,
            "border_right": null,
            "border_top": null,
            "bottom": null,
            "display": null,
            "flex": null,
            "flex_flow": null,
            "grid_area": null,
            "grid_auto_columns": null,
            "grid_auto_flow": null,
            "grid_auto_rows": null,
            "grid_column": null,
            "grid_gap": null,
            "grid_row": null,
            "grid_template_areas": null,
            "grid_template_columns": null,
            "grid_template_rows": null,
            "height": null,
            "justify_content": null,
            "justify_items": null,
            "left": null,
            "margin": null,
            "max_height": null,
            "max_width": null,
            "min_height": null,
            "min_width": null,
            "object_fit": null,
            "object_position": null,
            "order": null,
            "overflow": null,
            "padding": null,
            "right": null,
            "top": null,
            "visibility": null,
            "width": null
          }
        },
        "95d124ac660e4fec882f148481886093": {
          "model_module": "@jupyter-widgets/base",
          "model_name": "LayoutModel",
          "model_module_version": "2.0.0",
          "state": {
            "_model_module": "@jupyter-widgets/base",
            "_model_module_version": "2.0.0",
            "_model_name": "LayoutModel",
            "_view_count": null,
            "_view_module": "@jupyter-widgets/base",
            "_view_module_version": "2.0.0",
            "_view_name": "LayoutView",
            "align_content": null,
            "align_items": null,
            "align_self": null,
            "border_bottom": null,
            "border_left": null,
            "border_right": null,
            "border_top": null,
            "bottom": null,
            "display": null,
            "flex": null,
            "flex_flow": null,
            "grid_area": null,
            "grid_auto_columns": null,
            "grid_auto_flow": null,
            "grid_auto_rows": null,
            "grid_column": null,
            "grid_gap": null,
            "grid_row": null,
            "grid_template_areas": null,
            "grid_template_columns": null,
            "grid_template_rows": null,
            "height": null,
            "justify_content": null,
            "justify_items": null,
            "left": null,
            "margin": null,
            "max_height": null,
            "max_width": null,
            "min_height": null,
            "min_width": null,
            "object_fit": null,
            "object_position": null,
            "order": null,
            "overflow": null,
            "padding": null,
            "right": null,
            "top": null,
            "visibility": null,
            "width": null
          }
        },
        "367a0d40c615408fb14de7d445e222f9": {
          "model_module": "@jupyter-widgets/controls",
          "model_name": "HTMLStyleModel",
          "model_module_version": "2.0.0",
          "state": {
            "_model_module": "@jupyter-widgets/controls",
            "_model_module_version": "2.0.0",
            "_model_name": "HTMLStyleModel",
            "_view_count": null,
            "_view_module": "@jupyter-widgets/base",
            "_view_module_version": "2.0.0",
            "_view_name": "StyleView",
            "background": null,
            "description_width": "",
            "font_size": null,
            "text_color": null
          }
        },
        "6a684492bb9b441f9567dab4f9e8c36c": {
          "model_module": "@jupyter-widgets/base",
          "model_name": "LayoutModel",
          "model_module_version": "2.0.0",
          "state": {
            "_model_module": "@jupyter-widgets/base",
            "_model_module_version": "2.0.0",
            "_model_name": "LayoutModel",
            "_view_count": null,
            "_view_module": "@jupyter-widgets/base",
            "_view_module_version": "2.0.0",
            "_view_name": "LayoutView",
            "align_content": null,
            "align_items": null,
            "align_self": null,
            "border_bottom": null,
            "border_left": null,
            "border_right": null,
            "border_top": null,
            "bottom": null,
            "display": null,
            "flex": null,
            "flex_flow": null,
            "grid_area": null,
            "grid_auto_columns": null,
            "grid_auto_flow": null,
            "grid_auto_rows": null,
            "grid_column": null,
            "grid_gap": null,
            "grid_row": null,
            "grid_template_areas": null,
            "grid_template_columns": null,
            "grid_template_rows": null,
            "height": null,
            "justify_content": null,
            "justify_items": null,
            "left": null,
            "margin": null,
            "max_height": null,
            "max_width": null,
            "min_height": null,
            "min_width": null,
            "object_fit": null,
            "object_position": null,
            "order": null,
            "overflow": null,
            "padding": null,
            "right": null,
            "top": null,
            "visibility": null,
            "width": null
          }
        },
        "9f0908a47ce34d8cbdb93d05b54ce02f": {
          "model_module": "@jupyter-widgets/controls",
          "model_name": "ProgressStyleModel",
          "model_module_version": "2.0.0",
          "state": {
            "_model_module": "@jupyter-widgets/controls",
            "_model_module_version": "2.0.0",
            "_model_name": "ProgressStyleModel",
            "_view_count": null,
            "_view_module": "@jupyter-widgets/base",
            "_view_module_version": "2.0.0",
            "_view_name": "StyleView",
            "bar_color": null,
            "description_width": ""
          }
        },
        "f13fd03624cf4b12b2bdbd241689defe": {
          "model_module": "@jupyter-widgets/base",
          "model_name": "LayoutModel",
          "model_module_version": "2.0.0",
          "state": {
            "_model_module": "@jupyter-widgets/base",
            "_model_module_version": "2.0.0",
            "_model_name": "LayoutModel",
            "_view_count": null,
            "_view_module": "@jupyter-widgets/base",
            "_view_module_version": "2.0.0",
            "_view_name": "LayoutView",
            "align_content": null,
            "align_items": null,
            "align_self": null,
            "border_bottom": null,
            "border_left": null,
            "border_right": null,
            "border_top": null,
            "bottom": null,
            "display": null,
            "flex": null,
            "flex_flow": null,
            "grid_area": null,
            "grid_auto_columns": null,
            "grid_auto_flow": null,
            "grid_auto_rows": null,
            "grid_column": null,
            "grid_gap": null,
            "grid_row": null,
            "grid_template_areas": null,
            "grid_template_columns": null,
            "grid_template_rows": null,
            "height": null,
            "justify_content": null,
            "justify_items": null,
            "left": null,
            "margin": null,
            "max_height": null,
            "max_width": null,
            "min_height": null,
            "min_width": null,
            "object_fit": null,
            "object_position": null,
            "order": null,
            "overflow": null,
            "padding": null,
            "right": null,
            "top": null,
            "visibility": null,
            "width": null
          }
        },
        "3385dd15a529492481794c7480997f5e": {
          "model_module": "@jupyter-widgets/controls",
          "model_name": "HTMLStyleModel",
          "model_module_version": "2.0.0",
          "state": {
            "_model_module": "@jupyter-widgets/controls",
            "_model_module_version": "2.0.0",
            "_model_name": "HTMLStyleModel",
            "_view_count": null,
            "_view_module": "@jupyter-widgets/base",
            "_view_module_version": "2.0.0",
            "_view_name": "StyleView",
            "background": null,
            "description_width": "",
            "font_size": null,
            "text_color": null
          }
        },
        "133373b2fd844db49317c80c54202ad1": {
          "model_module": "@jupyter-widgets/controls",
          "model_name": "HBoxModel",
          "model_module_version": "2.0.0",
          "state": {
            "_dom_classes": [],
            "_model_module": "@jupyter-widgets/controls",
            "_model_module_version": "2.0.0",
            "_model_name": "HBoxModel",
            "_view_count": null,
            "_view_module": "@jupyter-widgets/controls",
            "_view_module_version": "2.0.0",
            "_view_name": "HBoxView",
            "box_style": "",
            "children": [
              "IPY_MODEL_7ffd372b66f84aeaa5c97e4ff9705d20",
              "IPY_MODEL_fb69bceb19244fcbbb0180c65c27e14b",
              "IPY_MODEL_c15727bdcf434b22b8453800aa3b8e4e"
            ],
            "layout": "IPY_MODEL_2eb27dee81ae49d8ba9b082d8a2bd68a",
            "tabbable": null,
            "tooltip": null
          }
        },
        "7ffd372b66f84aeaa5c97e4ff9705d20": {
          "model_module": "@jupyter-widgets/controls",
          "model_name": "HTMLModel",
          "model_module_version": "2.0.0",
          "state": {
            "_dom_classes": [],
            "_model_module": "@jupyter-widgets/controls",
            "_model_module_version": "2.0.0",
            "_model_name": "HTMLModel",
            "_view_count": null,
            "_view_module": "@jupyter-widgets/controls",
            "_view_module_version": "2.0.0",
            "_view_name": "HTMLView",
            "description": "",
            "description_allow_html": false,
            "layout": "IPY_MODEL_c010ad90248744f0891165ca02b78c02",
            "placeholder": "​",
            "style": "IPY_MODEL_5a42428c49de407d9a55b3dd3381cb38",
            "tabbable": null,
            "tooltip": null,
            "value": "Downloading target.spm: 100%"
          }
        },
        "fb69bceb19244fcbbb0180c65c27e14b": {
          "model_module": "@jupyter-widgets/controls",
          "model_name": "FloatProgressModel",
          "model_module_version": "2.0.0",
          "state": {
            "_dom_classes": [],
            "_model_module": "@jupyter-widgets/controls",
            "_model_module_version": "2.0.0",
            "_model_name": "FloatProgressModel",
            "_view_count": null,
            "_view_module": "@jupyter-widgets/controls",
            "_view_module_version": "2.0.0",
            "_view_name": "ProgressView",
            "bar_style": "success",
            "description": "",
            "description_allow_html": false,
            "layout": "IPY_MODEL_a93e92754aff41e59e859a7b817293a9",
            "max": 802397,
            "min": 0,
            "orientation": "horizontal",
            "style": "IPY_MODEL_7e8c89ff8bbc4c05aeba53df21497fe0",
            "tabbable": null,
            "tooltip": null,
            "value": 802397
          }
        },
        "c15727bdcf434b22b8453800aa3b8e4e": {
          "model_module": "@jupyter-widgets/controls",
          "model_name": "HTMLModel",
          "model_module_version": "2.0.0",
          "state": {
            "_dom_classes": [],
            "_model_module": "@jupyter-widgets/controls",
            "_model_module_version": "2.0.0",
            "_model_name": "HTMLModel",
            "_view_count": null,
            "_view_module": "@jupyter-widgets/controls",
            "_view_module_version": "2.0.0",
            "_view_name": "HTMLView",
            "description": "",
            "description_allow_html": false,
            "layout": "IPY_MODEL_e5054b39a4fb457e99bd2087d9e228b9",
            "placeholder": "​",
            "style": "IPY_MODEL_aaee94dca5dd49d998b3d131c4675251",
            "tabbable": null,
            "tooltip": null,
            "value": " 784k/784k [00:00&lt;00:00, 1.92MB/s]"
          }
        },
        "2eb27dee81ae49d8ba9b082d8a2bd68a": {
          "model_module": "@jupyter-widgets/base",
          "model_name": "LayoutModel",
          "model_module_version": "2.0.0",
          "state": {
            "_model_module": "@jupyter-widgets/base",
            "_model_module_version": "2.0.0",
            "_model_name": "LayoutModel",
            "_view_count": null,
            "_view_module": "@jupyter-widgets/base",
            "_view_module_version": "2.0.0",
            "_view_name": "LayoutView",
            "align_content": null,
            "align_items": null,
            "align_self": null,
            "border_bottom": null,
            "border_left": null,
            "border_right": null,
            "border_top": null,
            "bottom": null,
            "display": null,
            "flex": null,
            "flex_flow": null,
            "grid_area": null,
            "grid_auto_columns": null,
            "grid_auto_flow": null,
            "grid_auto_rows": null,
            "grid_column": null,
            "grid_gap": null,
            "grid_row": null,
            "grid_template_areas": null,
            "grid_template_columns": null,
            "grid_template_rows": null,
            "height": null,
            "justify_content": null,
            "justify_items": null,
            "left": null,
            "margin": null,
            "max_height": null,
            "max_width": null,
            "min_height": null,
            "min_width": null,
            "object_fit": null,
            "object_position": null,
            "order": null,
            "overflow": null,
            "padding": null,
            "right": null,
            "top": null,
            "visibility": null,
            "width": null
          }
        },
        "c010ad90248744f0891165ca02b78c02": {
          "model_module": "@jupyter-widgets/base",
          "model_name": "LayoutModel",
          "model_module_version": "2.0.0",
          "state": {
            "_model_module": "@jupyter-widgets/base",
            "_model_module_version": "2.0.0",
            "_model_name": "LayoutModel",
            "_view_count": null,
            "_view_module": "@jupyter-widgets/base",
            "_view_module_version": "2.0.0",
            "_view_name": "LayoutView",
            "align_content": null,
            "align_items": null,
            "align_self": null,
            "border_bottom": null,
            "border_left": null,
            "border_right": null,
            "border_top": null,
            "bottom": null,
            "display": null,
            "flex": null,
            "flex_flow": null,
            "grid_area": null,
            "grid_auto_columns": null,
            "grid_auto_flow": null,
            "grid_auto_rows": null,
            "grid_column": null,
            "grid_gap": null,
            "grid_row": null,
            "grid_template_areas": null,
            "grid_template_columns": null,
            "grid_template_rows": null,
            "height": null,
            "justify_content": null,
            "justify_items": null,
            "left": null,
            "margin": null,
            "max_height": null,
            "max_width": null,
            "min_height": null,
            "min_width": null,
            "object_fit": null,
            "object_position": null,
            "order": null,
            "overflow": null,
            "padding": null,
            "right": null,
            "top": null,
            "visibility": null,
            "width": null
          }
        },
        "5a42428c49de407d9a55b3dd3381cb38": {
          "model_module": "@jupyter-widgets/controls",
          "model_name": "HTMLStyleModel",
          "model_module_version": "2.0.0",
          "state": {
            "_model_module": "@jupyter-widgets/controls",
            "_model_module_version": "2.0.0",
            "_model_name": "HTMLStyleModel",
            "_view_count": null,
            "_view_module": "@jupyter-widgets/base",
            "_view_module_version": "2.0.0",
            "_view_name": "StyleView",
            "background": null,
            "description_width": "",
            "font_size": null,
            "text_color": null
          }
        },
        "a93e92754aff41e59e859a7b817293a9": {
          "model_module": "@jupyter-widgets/base",
          "model_name": "LayoutModel",
          "model_module_version": "2.0.0",
          "state": {
            "_model_module": "@jupyter-widgets/base",
            "_model_module_version": "2.0.0",
            "_model_name": "LayoutModel",
            "_view_count": null,
            "_view_module": "@jupyter-widgets/base",
            "_view_module_version": "2.0.0",
            "_view_name": "LayoutView",
            "align_content": null,
            "align_items": null,
            "align_self": null,
            "border_bottom": null,
            "border_left": null,
            "border_right": null,
            "border_top": null,
            "bottom": null,
            "display": null,
            "flex": null,
            "flex_flow": null,
            "grid_area": null,
            "grid_auto_columns": null,
            "grid_auto_flow": null,
            "grid_auto_rows": null,
            "grid_column": null,
            "grid_gap": null,
            "grid_row": null,
            "grid_template_areas": null,
            "grid_template_columns": null,
            "grid_template_rows": null,
            "height": null,
            "justify_content": null,
            "justify_items": null,
            "left": null,
            "margin": null,
            "max_height": null,
            "max_width": null,
            "min_height": null,
            "min_width": null,
            "object_fit": null,
            "object_position": null,
            "order": null,
            "overflow": null,
            "padding": null,
            "right": null,
            "top": null,
            "visibility": null,
            "width": null
          }
        },
        "7e8c89ff8bbc4c05aeba53df21497fe0": {
          "model_module": "@jupyter-widgets/controls",
          "model_name": "ProgressStyleModel",
          "model_module_version": "2.0.0",
          "state": {
            "_model_module": "@jupyter-widgets/controls",
            "_model_module_version": "2.0.0",
            "_model_name": "ProgressStyleModel",
            "_view_count": null,
            "_view_module": "@jupyter-widgets/base",
            "_view_module_version": "2.0.0",
            "_view_name": "StyleView",
            "bar_color": null,
            "description_width": ""
          }
        },
        "e5054b39a4fb457e99bd2087d9e228b9": {
          "model_module": "@jupyter-widgets/base",
          "model_name": "LayoutModel",
          "model_module_version": "2.0.0",
          "state": {
            "_model_module": "@jupyter-widgets/base",
            "_model_module_version": "2.0.0",
            "_model_name": "LayoutModel",
            "_view_count": null,
            "_view_module": "@jupyter-widgets/base",
            "_view_module_version": "2.0.0",
            "_view_name": "LayoutView",
            "align_content": null,
            "align_items": null,
            "align_self": null,
            "border_bottom": null,
            "border_left": null,
            "border_right": null,
            "border_top": null,
            "bottom": null,
            "display": null,
            "flex": null,
            "flex_flow": null,
            "grid_area": null,
            "grid_auto_columns": null,
            "grid_auto_flow": null,
            "grid_auto_rows": null,
            "grid_column": null,
            "grid_gap": null,
            "grid_row": null,
            "grid_template_areas": null,
            "grid_template_columns": null,
            "grid_template_rows": null,
            "height": null,
            "justify_content": null,
            "justify_items": null,
            "left": null,
            "margin": null,
            "max_height": null,
            "max_width": null,
            "min_height": null,
            "min_width": null,
            "object_fit": null,
            "object_position": null,
            "order": null,
            "overflow": null,
            "padding": null,
            "right": null,
            "top": null,
            "visibility": null,
            "width": null
          }
        },
        "aaee94dca5dd49d998b3d131c4675251": {
          "model_module": "@jupyter-widgets/controls",
          "model_name": "HTMLStyleModel",
          "model_module_version": "2.0.0",
          "state": {
            "_model_module": "@jupyter-widgets/controls",
            "_model_module_version": "2.0.0",
            "_model_name": "HTMLStyleModel",
            "_view_count": null,
            "_view_module": "@jupyter-widgets/base",
            "_view_module_version": "2.0.0",
            "_view_name": "StyleView",
            "background": null,
            "description_width": "",
            "font_size": null,
            "text_color": null
          }
        },
        "621f632a02fc4339ae9267964d54dd06": {
          "model_module": "@jupyter-widgets/controls",
          "model_name": "HBoxModel",
          "model_module_version": "2.0.0",
          "state": {
            "_dom_classes": [],
            "_model_module": "@jupyter-widgets/controls",
            "_model_module_version": "2.0.0",
            "_model_name": "HBoxModel",
            "_view_count": null,
            "_view_module": "@jupyter-widgets/controls",
            "_view_module_version": "2.0.0",
            "_view_name": "HBoxView",
            "box_style": "",
            "children": [
              "IPY_MODEL_9ae8c669dd574f898603bdeb69bb1ee0",
              "IPY_MODEL_f5d2e9e449c64121b440e8137faa3eb0",
              "IPY_MODEL_841a28477a5d40d3b7a82918705a38ec"
            ],
            "layout": "IPY_MODEL_b56847827c6c42febfb97b26f34e7164",
            "tabbable": null,
            "tooltip": null
          }
        },
        "9ae8c669dd574f898603bdeb69bb1ee0": {
          "model_module": "@jupyter-widgets/controls",
          "model_name": "HTMLModel",
          "model_module_version": "2.0.0",
          "state": {
            "_dom_classes": [],
            "_model_module": "@jupyter-widgets/controls",
            "_model_module_version": "2.0.0",
            "_model_name": "HTMLModel",
            "_view_count": null,
            "_view_module": "@jupyter-widgets/controls",
            "_view_module_version": "2.0.0",
            "_view_name": "HTMLView",
            "description": "",
            "description_allow_html": false,
            "layout": "IPY_MODEL_24a6132064624b9394c987b0e1f4e1e5",
            "placeholder": "​",
            "style": "IPY_MODEL_6253f14df61749ef8c950087c7bc48fc",
            "tabbable": null,
            "tooltip": null,
            "value": "Downloading vocab.json: 100%"
          }
        },
        "f5d2e9e449c64121b440e8137faa3eb0": {
          "model_module": "@jupyter-widgets/controls",
          "model_name": "FloatProgressModel",
          "model_module_version": "2.0.0",
          "state": {
            "_dom_classes": [],
            "_model_module": "@jupyter-widgets/controls",
            "_model_module_version": "2.0.0",
            "_model_name": "FloatProgressModel",
            "_view_count": null,
            "_view_module": "@jupyter-widgets/controls",
            "_view_module_version": "2.0.0",
            "_view_name": "ProgressView",
            "bar_style": "success",
            "description": "",
            "description_allow_html": false,
            "layout": "IPY_MODEL_625c4284f79741dfbee7f5361ae0f590",
            "max": 1339166,
            "min": 0,
            "orientation": "horizontal",
            "style": "IPY_MODEL_815e710454af424bbd582617ec917b7c",
            "tabbable": null,
            "tooltip": null,
            "value": 1339166
          }
        },
        "841a28477a5d40d3b7a82918705a38ec": {
          "model_module": "@jupyter-widgets/controls",
          "model_name": "HTMLModel",
          "model_module_version": "2.0.0",
          "state": {
            "_dom_classes": [],
            "_model_module": "@jupyter-widgets/controls",
            "_model_module_version": "2.0.0",
            "_model_name": "HTMLModel",
            "_view_count": null,
            "_view_module": "@jupyter-widgets/controls",
            "_view_module_version": "2.0.0",
            "_view_name": "HTMLView",
            "description": "",
            "description_allow_html": false,
            "layout": "IPY_MODEL_2b487fcf3b0f42e2952036ef728e6976",
            "placeholder": "​",
            "style": "IPY_MODEL_44f43128d5cc4926a0a07982fb77c899",
            "tabbable": null,
            "tooltip": null,
            "value": " 1.28M/1.28M [00:00&lt;00:00, 2.55MB/s]"
          }
        },
        "b56847827c6c42febfb97b26f34e7164": {
          "model_module": "@jupyter-widgets/base",
          "model_name": "LayoutModel",
          "model_module_version": "2.0.0",
          "state": {
            "_model_module": "@jupyter-widgets/base",
            "_model_module_version": "2.0.0",
            "_model_name": "LayoutModel",
            "_view_count": null,
            "_view_module": "@jupyter-widgets/base",
            "_view_module_version": "2.0.0",
            "_view_name": "LayoutView",
            "align_content": null,
            "align_items": null,
            "align_self": null,
            "border_bottom": null,
            "border_left": null,
            "border_right": null,
            "border_top": null,
            "bottom": null,
            "display": null,
            "flex": null,
            "flex_flow": null,
            "grid_area": null,
            "grid_auto_columns": null,
            "grid_auto_flow": null,
            "grid_auto_rows": null,
            "grid_column": null,
            "grid_gap": null,
            "grid_row": null,
            "grid_template_areas": null,
            "grid_template_columns": null,
            "grid_template_rows": null,
            "height": null,
            "justify_content": null,
            "justify_items": null,
            "left": null,
            "margin": null,
            "max_height": null,
            "max_width": null,
            "min_height": null,
            "min_width": null,
            "object_fit": null,
            "object_position": null,
            "order": null,
            "overflow": null,
            "padding": null,
            "right": null,
            "top": null,
            "visibility": null,
            "width": null
          }
        },
        "24a6132064624b9394c987b0e1f4e1e5": {
          "model_module": "@jupyter-widgets/base",
          "model_name": "LayoutModel",
          "model_module_version": "2.0.0",
          "state": {
            "_model_module": "@jupyter-widgets/base",
            "_model_module_version": "2.0.0",
            "_model_name": "LayoutModel",
            "_view_count": null,
            "_view_module": "@jupyter-widgets/base",
            "_view_module_version": "2.0.0",
            "_view_name": "LayoutView",
            "align_content": null,
            "align_items": null,
            "align_self": null,
            "border_bottom": null,
            "border_left": null,
            "border_right": null,
            "border_top": null,
            "bottom": null,
            "display": null,
            "flex": null,
            "flex_flow": null,
            "grid_area": null,
            "grid_auto_columns": null,
            "grid_auto_flow": null,
            "grid_auto_rows": null,
            "grid_column": null,
            "grid_gap": null,
            "grid_row": null,
            "grid_template_areas": null,
            "grid_template_columns": null,
            "grid_template_rows": null,
            "height": null,
            "justify_content": null,
            "justify_items": null,
            "left": null,
            "margin": null,
            "max_height": null,
            "max_width": null,
            "min_height": null,
            "min_width": null,
            "object_fit": null,
            "object_position": null,
            "order": null,
            "overflow": null,
            "padding": null,
            "right": null,
            "top": null,
            "visibility": null,
            "width": null
          }
        },
        "6253f14df61749ef8c950087c7bc48fc": {
          "model_module": "@jupyter-widgets/controls",
          "model_name": "HTMLStyleModel",
          "model_module_version": "2.0.0",
          "state": {
            "_model_module": "@jupyter-widgets/controls",
            "_model_module_version": "2.0.0",
            "_model_name": "HTMLStyleModel",
            "_view_count": null,
            "_view_module": "@jupyter-widgets/base",
            "_view_module_version": "2.0.0",
            "_view_name": "StyleView",
            "background": null,
            "description_width": "",
            "font_size": null,
            "text_color": null
          }
        },
        "625c4284f79741dfbee7f5361ae0f590": {
          "model_module": "@jupyter-widgets/base",
          "model_name": "LayoutModel",
          "model_module_version": "2.0.0",
          "state": {
            "_model_module": "@jupyter-widgets/base",
            "_model_module_version": "2.0.0",
            "_model_name": "LayoutModel",
            "_view_count": null,
            "_view_module": "@jupyter-widgets/base",
            "_view_module_version": "2.0.0",
            "_view_name": "LayoutView",
            "align_content": null,
            "align_items": null,
            "align_self": null,
            "border_bottom": null,
            "border_left": null,
            "border_right": null,
            "border_top": null,
            "bottom": null,
            "display": null,
            "flex": null,
            "flex_flow": null,
            "grid_area": null,
            "grid_auto_columns": null,
            "grid_auto_flow": null,
            "grid_auto_rows": null,
            "grid_column": null,
            "grid_gap": null,
            "grid_row": null,
            "grid_template_areas": null,
            "grid_template_columns": null,
            "grid_template_rows": null,
            "height": null,
            "justify_content": null,
            "justify_items": null,
            "left": null,
            "margin": null,
            "max_height": null,
            "max_width": null,
            "min_height": null,
            "min_width": null,
            "object_fit": null,
            "object_position": null,
            "order": null,
            "overflow": null,
            "padding": null,
            "right": null,
            "top": null,
            "visibility": null,
            "width": null
          }
        },
        "815e710454af424bbd582617ec917b7c": {
          "model_module": "@jupyter-widgets/controls",
          "model_name": "ProgressStyleModel",
          "model_module_version": "2.0.0",
          "state": {
            "_model_module": "@jupyter-widgets/controls",
            "_model_module_version": "2.0.0",
            "_model_name": "ProgressStyleModel",
            "_view_count": null,
            "_view_module": "@jupyter-widgets/base",
            "_view_module_version": "2.0.0",
            "_view_name": "StyleView",
            "bar_color": null,
            "description_width": ""
          }
        },
        "2b487fcf3b0f42e2952036ef728e6976": {
          "model_module": "@jupyter-widgets/base",
          "model_name": "LayoutModel",
          "model_module_version": "2.0.0",
          "state": {
            "_model_module": "@jupyter-widgets/base",
            "_model_module_version": "2.0.0",
            "_model_name": "LayoutModel",
            "_view_count": null,
            "_view_module": "@jupyter-widgets/base",
            "_view_module_version": "2.0.0",
            "_view_name": "LayoutView",
            "align_content": null,
            "align_items": null,
            "align_self": null,
            "border_bottom": null,
            "border_left": null,
            "border_right": null,
            "border_top": null,
            "bottom": null,
            "display": null,
            "flex": null,
            "flex_flow": null,
            "grid_area": null,
            "grid_auto_columns": null,
            "grid_auto_flow": null,
            "grid_auto_rows": null,
            "grid_column": null,
            "grid_gap": null,
            "grid_row": null,
            "grid_template_areas": null,
            "grid_template_columns": null,
            "grid_template_rows": null,
            "height": null,
            "justify_content": null,
            "justify_items": null,
            "left": null,
            "margin": null,
            "max_height": null,
            "max_width": null,
            "min_height": null,
            "min_width": null,
            "object_fit": null,
            "object_position": null,
            "order": null,
            "overflow": null,
            "padding": null,
            "right": null,
            "top": null,
            "visibility": null,
            "width": null
          }
        },
        "44f43128d5cc4926a0a07982fb77c899": {
          "model_module": "@jupyter-widgets/controls",
          "model_name": "HTMLStyleModel",
          "model_module_version": "2.0.0",
          "state": {
            "_model_module": "@jupyter-widgets/controls",
            "_model_module_version": "2.0.0",
            "_model_name": "HTMLStyleModel",
            "_view_count": null,
            "_view_module": "@jupyter-widgets/base",
            "_view_module_version": "2.0.0",
            "_view_name": "StyleView",
            "background": null,
            "description_width": "",
            "font_size": null,
            "text_color": null
          }
        }
      }
    }
  },
  "cells": [
    {
      "cell_type": "markdown",
      "metadata": {
        "id": "view-in-github",
        "colab_type": "text"
      },
      "source": [
        "<a href=\"https://colab.research.google.com/github/Matonice/30-Days-of-Transformer/blob/main/What_can_transformers_do.ipynb\" target=\"_parent\"><img src=\"https://colab.research.google.com/assets/colab-badge.svg\" alt=\"Open In Colab\"/></a>"
      ]
    },
    {
      "cell_type": "code",
      "execution_count": null,
      "metadata": {
        "id": "Ftlg_mgVrqhq"
      },
      "outputs": [],
      "source": [
        "%%capture\n",
        "!pip install transformers\n",
        "!pip install sentencepiece"
      ]
    },
    {
      "cell_type": "code",
      "source": [
        "from transformers import pipeline"
      ],
      "metadata": {
        "id": "YFaOgi8Yr4-M"
      },
      "execution_count": null,
      "outputs": []
    },
    {
      "cell_type": "markdown",
      "source": [
        "##**Text Classification**\n",
        "Getting the sentiment of a text"
      ],
      "metadata": {
        "id": "ISOe7PdDr9Dk"
      }
    },
    {
      "cell_type": "code",
      "source": [
        "classifier = pipeline(\"sentiment-analysis\")\n",
        "classifier(\"I'm so excited to get started with this 30 days of transformers challenge\")"
      ],
      "metadata": {
        "colab": {
          "base_uri": "https://localhost:8080/"
        },
        "id": "i1QlVWmcr75v",
        "outputId": "5b2cbdee-00ed-4151-9224-f04bfd1e6a2d"
      },
      "execution_count": null,
      "outputs": [
        {
          "output_type": "stream",
          "name": "stderr",
          "text": [
            "No model was supplied, defaulted to distilbert-base-uncased-finetuned-sst-2-english and revision af0f99b (https://huggingface.co/distilbert-base-uncased-finetuned-sst-2-english).\n",
            "Using a pipeline without specifying a model name and revision in production is not recommended.\n"
          ]
        },
        {
          "output_type": "execute_result",
          "data": {
            "text/plain": [
              "[{'label': 'POSITIVE', 'score': 0.997882068157196}]"
            ]
          },
          "metadata": {},
          "execution_count": 3
        }
      ]
    },
    {
      "cell_type": "markdown",
      "source": [
        "##**Zero shot classification**\n",
        "Classification on texts that has not been labelled, you just need to specify the labels to use for classification"
      ],
      "metadata": {
        "id": "NTjiFYB7s-7m"
      }
    },
    {
      "cell_type": "code",
      "source": [
        "text = \"\"\"The best and worst U.S. cities for air quality\n",
        "The federal government’s Clean Air Act has helped reduce dangerous pollutants from transportation, power plants and manufacturing. However, paired with a changing climate, the American Lung Association believes it's becoming harder to protect human health.\n",
        "By Shirin Ali | April 22, 2022\n",
        "\n",
        "Story at a glance\n",
        "The American Lung Association (ALA) estimates over 137 million Americans are living in places with unhealthy levels of air pollution. \n",
        "Fine particles and ozone pollution are considered the two most widespread and dangerous air pollutants. \n",
        "California was given failing air pollution grades by the ALA. \n",
        "More than 137 million Americans are living in places with failing grades for unhealthy levels of air pollution, according to the American Lung Association (ALA). \n",
        "\n",
        "The ALA created three separate lists highlighting the 25 worst cities for ozone pollution, short-term exposure particle pollution and year-round particle pollution. The ALA defines fine particles and ozone as the two most widespread and dangerous air pollutants. The federal government’s Clean Air Act has helped reduce dangerous pollutants from transportation, power plants and manufacturing, however paired with a changing climate, the ALA believes it’s becoming harder to protect human health. \n",
        "\n",
        "Starting with ozone air pollution, a type of pollutant that makes it harder to breathe for millions of Americans, often called smog. It comes out of tailpipes in cars, smokestacks and other sources. \n",
        "\n",
        "Ozone pollution, or smog, comes from cars, smokestacks and other sources and makes it harder to breathe for millions of Americans. Four different cities in California take the top spots in ALA’s 25 most polluted cities by ozone: \n",
        "\"\"\"\n",
        "classifier = pipeline(\"zero-shot-classification\")\n",
        "labels = ['education', 'technology', 'politics', 'health', 'business', 'world', 'sports', 'entertainment']\n",
        "classifier(\n",
        "    text,\n",
        "    candidate_labels=labels,\n",
        ")"
      ],
      "metadata": {
        "colab": {
          "base_uri": "https://localhost:8080/"
        },
        "id": "d9GZmxHGsZjU",
        "outputId": "52b8b4d9-5604-410f-a59a-e63cbdac5861"
      },
      "execution_count": null,
      "outputs": [
        {
          "output_type": "stream",
          "name": "stderr",
          "text": [
            "No model was supplied, defaulted to facebook/bart-large-mnli and revision c626438 (https://huggingface.co/facebook/bart-large-mnli).\n",
            "Using a pipeline without specifying a model name and revision in production is not recommended.\n"
          ]
        },
        {
          "output_type": "execute_result",
          "data": {
            "text/plain": [
              "{'sequence': \"The best and worst U.S. cities for air quality\\nThe federal government’s Clean Air Act has helped reduce dangerous pollutants from transportation, power plants and manufacturing. However, paired with a changing climate, the American Lung Association believes it's becoming harder to protect human health.\\nBy Shirin Ali | April 22, 2022\\n\\nStory at a glance\\nThe American Lung Association (ALA) estimates over 137 million Americans are living in places with unhealthy levels of air pollution. \\nFine particles and ozone pollution are considered the two most widespread and dangerous air pollutants. \\nCalifornia was given failing air pollution grades by the ALA. \\nMore than 137 million Americans are living in places with failing grades for unhealthy levels of air pollution, according to the American Lung Association (ALA). \\n\\nThe ALA created three separate lists highlighting the 25 worst cities for ozone pollution, short-term exposure particle pollution and year-round particle pollution. The ALA defines fine particles and ozone as the two most widespread and dangerous air pollutants. The federal government’s Clean Air Act has helped reduce dangerous pollutants from transportation, power plants and manufacturing, however paired with a changing climate, the ALA believes it’s becoming harder to protect human health. \\n\\nStarting with ozone air pollution, a type of pollutant that makes it harder to breathe for millions of Americans, often called smog. It comes out of tailpipes in cars, smokestacks and other sources. \\n\\nOzone pollution, or smog, comes from cars, smokestacks and other sources and makes it harder to breathe for millions of Americans. Four different cities in California take the top spots in ALA’s 25 most polluted cities by ozone: \\n\",\n",
              " 'labels': ['health',\n",
              "  'world',\n",
              "  'business',\n",
              "  'technology',\n",
              "  'entertainment',\n",
              "  'sports',\n",
              "  'education',\n",
              "  'politics'],\n",
              " 'scores': [0.5425241589546204,\n",
              "  0.11840038746595383,\n",
              "  0.0808899775147438,\n",
              "  0.0633641704916954,\n",
              "  0.05548234283924103,\n",
              "  0.05184277147054672,\n",
              "  0.04817930981516838,\n",
              "  0.039316825568675995]}"
            ]
          },
          "metadata": {},
          "execution_count": 4
        }
      ]
    },
    {
      "cell_type": "markdown",
      "source": [
        "##**Text Generation**\n",
        "Auto Completing a text given a prompt"
      ],
      "metadata": {
        "id": "jSUce_7zu0ZG"
      }
    },
    {
      "cell_type": "code",
      "source": [
        "generator = pipeline(\"text-generation\",max_length=50,num_return_sequences=2,)\n",
        "generator(\"In the next 30 day, i'm going to learn about the transformers models\")\n"
      ],
      "metadata": {
        "colab": {
          "base_uri": "https://localhost:8080/"
        },
        "id": "RhiO5GOPun3Z",
        "outputId": "d1ccb016-83ac-47bb-b5cc-0ff2460ad2c9"
      },
      "execution_count": null,
      "outputs": [
        {
          "output_type": "stream",
          "name": "stderr",
          "text": [
            "No model was supplied, defaulted to gpt2 and revision 6c0e608 (https://huggingface.co/gpt2).\n",
            "Using a pipeline without specifying a model name and revision in production is not recommended.\n",
            "Setting `pad_token_id` to `eos_token_id`:50256 for open-end generation.\n"
          ]
        },
        {
          "output_type": "execute_result",
          "data": {
            "text/plain": [
              "[{'generated_text': \"In the next 30 day, i'm going to learn about the transformers models for 3D printing on plastic, making new polymers as a result of these transformations, and the next two batches of plastic and polymers made by others. Then I\"},\n",
              " {'generated_text': \"In the next 30 day, i'm going to learn about the transformers models in 5 minute videos over the next 100 days. That's when there's going to be a big discussion about what the future looks like in this space. So here are\"}]"
            ]
          },
          "metadata": {},
          "execution_count": 5
        }
      ]
    },
    {
      "cell_type": "markdown",
      "source": [
        "##**Mask Filling**\n",
        "Filling in the blank space in a given text"
      ],
      "metadata": {
        "id": "gyEEir-9wQkP"
      }
    },
    {
      "cell_type": "code",
      "source": [
        "unmasker = pipeline(\"fill-mask\")\n",
        "unmasker(\"In the next 30 <mask>, I'm going to learn about the transformer models \", top_k=2)"
      ],
      "metadata": {
        "colab": {
          "base_uri": "https://localhost:8080/"
        },
        "id": "Ym2NFEKlvyIs",
        "outputId": "3aa6deba-d31a-49c5-d75b-0206aead7e36"
      },
      "execution_count": null,
      "outputs": [
        {
          "output_type": "stream",
          "name": "stderr",
          "text": [
            "No model was supplied, defaulted to distilroberta-base and revision ec58a5b (https://huggingface.co/distilroberta-base).\n",
            "Using a pipeline without specifying a model name and revision in production is not recommended.\n"
          ]
        },
        {
          "output_type": "execute_result",
          "data": {
            "text/plain": [
              "[{'score': 0.4613357484340668,\n",
              "  'token': 360,\n",
              "  'token_str': ' days',\n",
              "  'sequence': \"In the next 30 days, I'm going to learn about the transformer models \"},\n",
              " {'score': 0.2611152231693268,\n",
              "  'token': 728,\n",
              "  'token_str': ' minutes',\n",
              "  'sequence': \"In the next 30 minutes, I'm going to learn about the transformer models \"}]"
            ]
          },
          "metadata": {},
          "execution_count": 6
        }
      ]
    },
    {
      "cell_type": "markdown",
      "source": [
        "##**Named Entity Recognition**\n",
        "Identity different entities(Place, Organization ...) in a text"
      ],
      "metadata": {
        "id": "kIUXZambxUGP"
      }
    },
    {
      "cell_type": "code",
      "source": [
        "ner = pipeline(\"ner\", grouped_entities=True)\n",
        "ner(\"My name is Abdulmatin, and i'm getting started with 30 days of transformers models challenge \")"
      ],
      "metadata": {
        "colab": {
          "base_uri": "https://localhost:8080/"
        },
        "id": "05apyyq3w4ZT",
        "outputId": "2e7ee265-5769-44db-dd63-972d4e762d18"
      },
      "execution_count": null,
      "outputs": [
        {
          "output_type": "stream",
          "name": "stderr",
          "text": [
            "No model was supplied, defaulted to dbmdz/bert-large-cased-finetuned-conll03-english and revision f2482bf (https://huggingface.co/dbmdz/bert-large-cased-finetuned-conll03-english).\n",
            "Using a pipeline without specifying a model name and revision in production is not recommended.\n",
            "/usr/local/lib/python3.7/dist-packages/transformers/pipelines/token_classification.py:136: UserWarning: `grouped_entities` is deprecated and will be removed in version v5.0.0, defaulted to `aggregation_strategy=\"simple\"` instead.\n",
            "  \"`grouped_entities` is deprecated and will be removed in version v5.0.0, defaulted to\"\n"
          ]
        },
        {
          "output_type": "execute_result",
          "data": {
            "text/plain": [
              "[{'entity_group': 'PER',\n",
              "  'score': 0.99932474,\n",
              "  'word': 'Abdulmatin',\n",
              "  'start': 11,\n",
              "  'end': 21}]"
            ]
          },
          "metadata": {},
          "execution_count": 7
        }
      ]
    },
    {
      "cell_type": "markdown",
      "source": [
        "##**Question Answering**\n",
        "\n",
        "Providing an answer to a question from a given context"
      ],
      "metadata": {
        "id": "xvjOxGwNyTE2"
      }
    },
    {
      "cell_type": "code",
      "source": [
        "question_answerer = pipeline(\"question-answering\")\n",
        "question_answerer(\n",
        "    question=\"Who is getting started with the transformer challenge?\",\n",
        "    context=\"My name is Abdulmatin, and i'm getting started with 30 days of transformers models\",\n",
        ")"
      ],
      "metadata": {
        "colab": {
          "base_uri": "https://localhost:8080/"
        },
        "id": "OIeRZ69Rxxcn",
        "outputId": "bc8e7523-0ea0-44ab-8fe2-9cf84368d8ad"
      },
      "execution_count": null,
      "outputs": [
        {
          "output_type": "stream",
          "name": "stderr",
          "text": [
            "No model was supplied, defaulted to distilbert-base-cased-distilled-squad and revision 626af31 (https://huggingface.co/distilbert-base-cased-distilled-squad).\n",
            "Using a pipeline without specifying a model name and revision in production is not recommended.\n"
          ]
        },
        {
          "output_type": "execute_result",
          "data": {
            "text/plain": [
              "{'score': 0.9803182482719421, 'start': 11, 'end': 21, 'answer': 'Abdulmatin'}"
            ]
          },
          "metadata": {},
          "execution_count": 8
        }
      ]
    },
    {
      "cell_type": "markdown",
      "source": [
        "##**Text Summarization**\n",
        "Giving a short summary of a longer text while keeping the most important aspect of the text"
      ],
      "metadata": {
        "id": "8UESXqZry_BZ"
      }
    },
    {
      "cell_type": "code",
      "source": [
        "summarizer = pipeline(\"summarization\")\n",
        "summarizer(\"\"\"\n",
        "  The best and worst U.S. cities for air quality\n",
        "The federal government’s Clean Air Act has helped reduce dangerous pollutants from transportation, power plants and manufacturing. However, paired with a changing climate, the American Lung Association believes it's becoming harder to protect human health.\n",
        "By Shirin Ali | April 22, 2022\n",
        "\n",
        "Story at a glance\n",
        "The American Lung Association (ALA) estimates over 137 million Americans are living in places with unhealthy levels of air pollution. \n",
        "Fine particles and ozone pollution are considered the two most widespread and dangerous air pollutants. \n",
        "California was given failing air pollution grades by the ALA. \n",
        "More than 137 million Americans are living in places with failing grades for unhealthy levels of air pollution, according to the American Lung Association (ALA). \n",
        "\n",
        "The ALA created three separate lists highlighting the 25 worst cities for ozone pollution, short-term exposure particle pollution and year-round particle pollution. The ALA defines fine particles and ozone as the two most widespread and dangerous air pollutants. The federal government’s Clean Air Act has helped reduce dangerous pollutants from transportation, power plants and manufacturing, however paired with a changing climate, the ALA believes it’s becoming harder to protect human health. \n",
        "\n",
        "Starting with ozone air pollution, a type of pollutant that makes it harder to breathe for millions of Americans, often called smog. It comes out of tailpipes in cars, smokestacks and other sources. \n",
        "\n",
        "Ozone pollution, or smog, comes from cars, smokestacks and other sources and makes it harder to breathe for millions of Americans. Four different cities in California take the top spots in ALA’s 25 most polluted cities by ozone: \n",
        "\n",
        "Los Angeles- Long Beach, CA—an average of nearly 180 bad air days \n",
        "Bakersfield, CA – an average of 95 bad air days \n",
        "Visalia, CA – an average of nearly 92 bad air days \n",
        "Fresno-Madera-Hanford, CA – an average of 60 bad air days \n",
        "Phoenix- Mesa, AZ – an average of 39 bad air days \n",
        "There were also some 63.2 million people that lived in areas that earned an F for unhealthy spikes in particulate matter air pollution, which ALA defines as short-term pollution. That’s a type of pollution that can kill, as peaks in particle pollution can last from hours to days. It has many harmful effects, ranging from decreased lung function to heart attacks. ALA’s list of 25 cities polluted daily by particle matter was again dominated by California. \n",
        "\n",
        "Fresno-Madera-Hartford, CA – an average of 51 bad air days \n",
        "Bakersfield, CA – an average of 41 bad air days \n",
        "Fairbanks, AK – an average of 37 bad air days \n",
        "San Jose- San Francisco-Oakland, CA – an average of 27 bad air days \n",
        "Redding-Red Bluff, CA – an average of 24 bad air days \n",
        "There are also areas of the country impacting over 20.9 million people where year-round particle pollution levels are worse than the national air quality limit. Recent wildfires in the West caused year-round particle pollution to rise. Cities with high power plant emissions and local industrial sources also tend to have high amounts of year-round particle pollution.  \n",
        "\"\"\")"
      ],
      "metadata": {
        "colab": {
          "base_uri": "https://localhost:8080/"
        },
        "id": "MvfkTHvby1IL",
        "outputId": "6fd22243-d4ec-4fa7-8083-ca69477998b7"
      },
      "execution_count": null,
      "outputs": [
        {
          "output_type": "stream",
          "name": "stderr",
          "text": [
            "No model was supplied, defaulted to sshleifer/distilbart-cnn-12-6 and revision a4f8f3e (https://huggingface.co/sshleifer/distilbart-cnn-12-6).\n",
            "Using a pipeline without specifying a model name and revision in production is not recommended.\n"
          ]
        },
        {
          "output_type": "execute_result",
          "data": {
            "text/plain": [
              "[{'summary_text': \" The American Lung Association (ALA) estimates over 137 million Americans are living in places with unhealthy levels of air pollution . The federal government’s Clean Air Act has helped reduce dangerous pollutants from transportation, power plants and manufacturing, however paired with a changing climate, the ALA believes it's becoming harder to protect human health . The ALA created three separate lists highlighting the 25 worst cities for ozone pollution, short-term exposure particle pollution and year-round particle pollution .\"}]"
            ]
          },
          "metadata": {},
          "execution_count": 9
        }
      ]
    },
    {
      "cell_type": "markdown",
      "source": [
        "**Translation**"
      ],
      "metadata": {
        "id": "2cSbOvzw0Mgk"
      }
    },
    {
      "cell_type": "code",
      "source": [
        "translator = pipeline(\"translation\", model=\"Helsinki-NLP/opus-mt-en-fr\")\n",
        "translator(\"I'm getting started with the 30 days of transformers challenge\")"
      ],
      "metadata": {
        "colab": {
          "base_uri": "https://localhost:8080/",
          "height": 69,
          "referenced_widgets": [
            "d4f703a5dce148679acb3f276d68e6e8",
            "57c0286ec002451a9bbb4093a61b2082",
            "de4839c61d7d4725ba8cc1c73a588cc1",
            "cfe9bf1b17714bd68353033e3a72a6cf",
            "802f3894dba74d9a91821b0b4f597941",
            "95d124ac660e4fec882f148481886093",
            "367a0d40c615408fb14de7d445e222f9",
            "6a684492bb9b441f9567dab4f9e8c36c",
            "9f0908a47ce34d8cbdb93d05b54ce02f",
            "f13fd03624cf4b12b2bdbd241689defe",
            "3385dd15a529492481794c7480997f5e",
            "133373b2fd844db49317c80c54202ad1",
            "7ffd372b66f84aeaa5c97e4ff9705d20",
            "fb69bceb19244fcbbb0180c65c27e14b",
            "c15727bdcf434b22b8453800aa3b8e4e",
            "2eb27dee81ae49d8ba9b082d8a2bd68a",
            "c010ad90248744f0891165ca02b78c02",
            "5a42428c49de407d9a55b3dd3381cb38",
            "a93e92754aff41e59e859a7b817293a9",
            "7e8c89ff8bbc4c05aeba53df21497fe0",
            "e5054b39a4fb457e99bd2087d9e228b9",
            "aaee94dca5dd49d998b3d131c4675251",
            "621f632a02fc4339ae9267964d54dd06",
            "9ae8c669dd574f898603bdeb69bb1ee0",
            "f5d2e9e449c64121b440e8137faa3eb0",
            "841a28477a5d40d3b7a82918705a38ec",
            "b56847827c6c42febfb97b26f34e7164",
            "24a6132064624b9394c987b0e1f4e1e5",
            "6253f14df61749ef8c950087c7bc48fc",
            "625c4284f79741dfbee7f5361ae0f590",
            "815e710454af424bbd582617ec917b7c",
            "2b487fcf3b0f42e2952036ef728e6976",
            "44f43128d5cc4926a0a07982fb77c899"
          ]
        },
        "id": "VH2PBMwozmF-",
        "outputId": "7e659d55-3ede-4369-b1e5-66f4208bb85b"
      },
      "execution_count": null,
      "outputs": [
        {
          "output_type": "display_data",
          "data": {
            "text/plain": [
              "Downloading source.spm:   0%|          | 0.00/760k [00:00<?, ?B/s]"
            ],
            "application/vnd.jupyter.widget-view+json": {
              "version_major": 2,
              "version_minor": 0,
              "model_id": "d4f703a5dce148679acb3f276d68e6e8"
            },
            "application/json": {
              "n": 0,
              "total": 778395,
              "elapsed": 0.03787374496459961,
              "ncols": null,
              "nrows": null,
              "prefix": "Downloading source.spm",
              "ascii": false,
              "unit": "B",
              "unit_scale": true,
              "rate": null,
              "bar_format": null,
              "postfix": null,
              "unit_divisor": 1024,
              "initial": 0,
              "colour": null
            }
          },
          "metadata": {}
        },
        {
          "output_type": "display_data",
          "data": {
            "text/plain": [
              "Downloading target.spm:   0%|          | 0.00/784k [00:00<?, ?B/s]"
            ],
            "application/vnd.jupyter.widget-view+json": {
              "version_major": 2,
              "version_minor": 0,
              "model_id": "133373b2fd844db49317c80c54202ad1"
            },
            "application/json": {
              "n": 0,
              "total": 802397,
              "elapsed": 0.02599477767944336,
              "ncols": null,
              "nrows": null,
              "prefix": "Downloading target.spm",
              "ascii": false,
              "unit": "B",
              "unit_scale": true,
              "rate": null,
              "bar_format": null,
              "postfix": null,
              "unit_divisor": 1024,
              "initial": 0,
              "colour": null
            }
          },
          "metadata": {}
        },
        {
          "output_type": "display_data",
          "data": {
            "text/plain": [
              "Downloading vocab.json:   0%|          | 0.00/1.28M [00:00<?, ?B/s]"
            ],
            "application/vnd.jupyter.widget-view+json": {
              "version_major": 2,
              "version_minor": 0,
              "model_id": "621f632a02fc4339ae9267964d54dd06"
            },
            "application/json": {
              "n": 0,
              "total": 1339166,
              "elapsed": 0.047271013259887695,
              "ncols": null,
              "nrows": null,
              "prefix": "Downloading vocab.json",
              "ascii": false,
              "unit": "B",
              "unit_scale": true,
              "rate": null,
              "bar_format": null,
              "postfix": null,
              "unit_divisor": 1024,
              "initial": 0,
              "colour": null
            }
          },
          "metadata": {}
        },
        {
          "output_type": "stream",
          "name": "stderr",
          "text": [
            "/usr/local/lib/python3.7/dist-packages/transformers/models/marian/tokenization_marian.py:198: UserWarning: Recommended: pip install sacremoses.\n",
            "  warnings.warn(\"Recommended: pip install sacremoses.\")\n"
          ]
        },
        {
          "output_type": "execute_result",
          "data": {
            "text/plain": [
              "[{'translation_text': 'Je commence avec les 30 jours du défi des transformateurs'}]"
            ]
          },
          "metadata": {},
          "execution_count": 10
        }
      ]
    },
    {
      "cell_type": "code",
      "source": [],
      "metadata": {
        "id": "r6pzMS3J0j7b"
      },
      "execution_count": null,
      "outputs": []
    }
  ]
}